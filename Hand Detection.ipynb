{
 "cells": [
  {
   "cell_type": "code",
   "execution_count": 1,
   "id": "50ff9794",
   "metadata": {},
   "outputs": [],
   "source": [
    "#!Pip install mediapipe"
   ]
  },
  {
   "cell_type": "code",
   "execution_count": 22,
   "id": "bf497887",
   "metadata": {},
   "outputs": [],
   "source": [
    "#Import all necessary\n",
    "\n",
    "import cv2\n",
    "import mediapipe as mp"
   ]
  },
  {
   "cell_type": "code",
   "execution_count": 23,
   "id": "587aac98",
   "metadata": {},
   "outputs": [],
   "source": [
    "#  step 2 Identify your webcam\n",
    "\n",
    "cap= cv2.VideoCapture(0) # External(1) internal(0)"
   ]
  },
  {
   "cell_type": "code",
   "execution_count": 24,
   "id": "9985c63b",
   "metadata": {},
   "outputs": [],
   "source": [
    "# Step 4 leveraging the Mediapipe Library used for hand detection\n",
    "\n",
    "mpHands =mp.solutions.hands\n",
    "hands = mpHands.Hands()\n",
    "mpDraw = mp.solutions.drawing_utils"
   ]
  },
  {
   "cell_type": "code",
   "execution_count": 25,
   "id": "6a345f1d",
   "metadata": {},
   "outputs": [],
   "source": [
    "#  Step 3Switch on the webcam\n",
    "\n",
    "while True:\n",
    "    _, img = cap.read() #switch on and assign it to frame\n",
    "    \n",
    "    #Convert image from BGR to RGB\n",
    "    imgRGB =cv2.cvtColor(img, cv2.COLOR_BGR2RGB)\n",
    "\n",
    "    # Apply Mediapipe\n",
    "    results= hands.process(imgRGB) \n",
    "\n",
    "    #print(results.multi_hand_landmarks)\n",
    "    \n",
    "    if results.multi_hand_landmarks:\n",
    "        for handLms in results.multi_hand_landmarks:\n",
    "            for id,lm in enumerate(handLms.landmark):\n",
    "                #print(id, lm)\n",
    "                \n",
    "                mpDraw.draw_landmarks(img, handLms, mpHands.HAND_CONNECTIONS)    \n",
    "    cv2.putText(img, \"10Alytics Hand Detection Program\", (10,70), cv2.FONT_HERSHEY_PLAIN, 3, (255,255,255),2)\n",
    "    cv2.imshow(\"10Alytics Hand Detection Project\", img)\n",
    "    if cv2.waitKey(1) & 0xff == ord(\"q\"): # \"q\" can be anything means once you press that key is to stop the whileloop\n",
    "        break\n",
    "\n",
    "# close all the windows that was created\n",
    "cap.release()\n",
    "cv2.destroyAllWindows() "
   ]
  },
  {
   "cell_type": "code",
   "execution_count": null,
   "id": "8ff29630",
   "metadata": {},
   "outputs": [],
   "source": []
  }
 ],
 "metadata": {
  "kernelspec": {
   "display_name": "Python 3 (ipykernel)",
   "language": "python",
   "name": "python3"
  },
  "language_info": {
   "codemirror_mode": {
    "name": "ipython",
    "version": 3
   },
   "file_extension": ".py",
   "mimetype": "text/x-python",
   "name": "python",
   "nbconvert_exporter": "python",
   "pygments_lexer": "ipython3",
   "version": "3.11.5"
  }
 },
 "nbformat": 4,
 "nbformat_minor": 5
}
